{
 "cells": [
  {
   "cell_type": "code",
   "execution_count": 82,
   "id": "933e6f4d-e65d-4db4-9e40-61a63a45372e",
   "metadata": {},
   "outputs": [],
   "source": [
    "from datetime import datetime\n",
    "#from pathlib import Path\n",
    "#from zipfile import ZipFile\n",
    "\n",
    "import pandas as pd"
   ]
  },
  {
   "cell_type": "markdown",
   "id": "0d37ea70-72d6-4ec3-9b0f-fdfe4cb2c529",
   "metadata": {},
   "source": [
    "### Step 1: Ingest data"
   ]
  },
  {
   "cell_type": "code",
   "execution_count": 83,
   "id": "02a7de6a-ba47-47f6-81a5-aa00c681af1b",
   "metadata": {},
   "outputs": [
    {
     "data": {
      "text/plain": [
       "'\\nDATA_FOLDER = Path(\"./data\")\\n\\nwith ZipFile(DATA_FOLDER / \"simulacrum_v2.1.0.zip\") as zf:\\n    for file_name in [\"sim_av_tumour.csv\", \"sim_av_patient.csv\"]:\\n        # Path not needed according to Zipfile documentation: https://svn.python.org/projects/python/trunk/Lib/zipfile.py\\n        zf.extract(f\"simulacrum_v2.1.0/Data/{file_name}\", DATA_FOLDER / \"unzipped_data\")\\n'"
      ]
     },
     "execution_count": 83,
     "metadata": {},
     "output_type": "execute_result"
    }
   ],
   "source": [
    "# Files too large for Github but I've left the code for unzipping here anyway. Note that originally the zipped folder was in a \n",
    "# data directory that I had created so if you try to run you'll need to move the zipped folder into a data directory at the top-level\n",
    "# of the repo.\n",
    "\"\"\"\n",
    "DATA_FOLDER = Path(\"./data\")\n",
    "\n",
    "with ZipFile(DATA_FOLDER / \"simulacrum_v2.1.0.zip\") as zf:\n",
    "    for file_name in [\"sim_av_tumour.csv\", \"sim_av_patient.csv\"]:\n",
    "        # Path not needed according to Zipfile documentation: https://svn.python.org/projects/python/trunk/Lib/zipfile.py\n",
    "        zf.extract(f\"simulacrum_v2.1.0/Data/{file_name}\", DATA_FOLDER / \"unzipped_data\")\n",
    "\"\"\""
   ]
  },
  {
   "cell_type": "code",
   "execution_count": 84,
   "id": "2df9bc11-9c9b-4de5-b202-0fded41a9ea7",
   "metadata": {},
   "outputs": [
    {
     "data": {
      "text/html": [
       "<div>\n",
       "<style scoped>\n",
       "    .dataframe tbody tr th:only-of-type {\n",
       "        vertical-align: middle;\n",
       "    }\n",
       "\n",
       "    .dataframe tbody tr th {\n",
       "        vertical-align: top;\n",
       "    }\n",
       "\n",
       "    .dataframe thead th {\n",
       "        text-align: right;\n",
       "    }\n",
       "</style>\n",
       "<table border=\"1\" class=\"dataframe\">\n",
       "  <thead>\n",
       "    <tr style=\"text-align: right;\">\n",
       "      <th></th>\n",
       "      <th>TUMOURID</th>\n",
       "      <th>GENDER</th>\n",
       "      <th>PATIENTID</th>\n",
       "      <th>DIAGNOSISDATEBEST</th>\n",
       "      <th>SITE_ICD10_O2_3CHAR</th>\n",
       "      <th>SITE_ICD10_O2</th>\n",
       "      <th>SITE_ICD10R4_O2_3CHAR_FROM2013</th>\n",
       "      <th>SITE_ICD10R4_O2_FROM2013</th>\n",
       "      <th>SITE_ICDO3REV2011</th>\n",
       "      <th>SITE_ICDO3REV2011_3CHAR</th>\n",
       "      <th>...</th>\n",
       "      <th>QUINTILE_2019</th>\n",
       "      <th>DATE_FIRST_SURGERY</th>\n",
       "      <th>CANCERCAREPLANINTENT</th>\n",
       "      <th>PERFORMANCESTATUS</th>\n",
       "      <th>CHRL_TOT_27_03</th>\n",
       "      <th>COMORBIDITIES_27_03</th>\n",
       "      <th>GLEASON_PRIMARY</th>\n",
       "      <th>GLEASON_SECONDARY</th>\n",
       "      <th>GLEASON_TERTIARY</th>\n",
       "      <th>GLEASON_COMBINED</th>\n",
       "    </tr>\n",
       "  </thead>\n",
       "  <tbody>\n",
       "    <tr>\n",
       "      <th>0</th>\n",
       "      <td>10399610</td>\n",
       "      <td>1</td>\n",
       "      <td>10000001</td>\n",
       "      <td>2017-03-31</td>\n",
       "      <td>C44</td>\n",
       "      <td>C444</td>\n",
       "      <td>C44</td>\n",
       "      <td>C444</td>\n",
       "      <td>C444</td>\n",
       "      <td>C44</td>\n",
       "      <td>...</td>\n",
       "      <td>4</td>\n",
       "      <td>NaN</td>\n",
       "      <td>NaN</td>\n",
       "      <td>3.0</td>\n",
       "      <td>0.0</td>\n",
       "      <td>NaN</td>\n",
       "      <td>NaN</td>\n",
       "      <td>NaN</td>\n",
       "      <td>NaN</td>\n",
       "      <td>NaN</td>\n",
       "    </tr>\n",
       "    <tr>\n",
       "      <th>1</th>\n",
       "      <td>10694862</td>\n",
       "      <td>1</td>\n",
       "      <td>10000002</td>\n",
       "      <td>2016-01-14</td>\n",
       "      <td>C44</td>\n",
       "      <td>C449</td>\n",
       "      <td>C44</td>\n",
       "      <td>C449</td>\n",
       "      <td>C449</td>\n",
       "      <td>C44</td>\n",
       "      <td>...</td>\n",
       "      <td>5 - least deprived</td>\n",
       "      <td>2016-01-14</td>\n",
       "      <td>NaN</td>\n",
       "      <td>NaN</td>\n",
       "      <td>0.0</td>\n",
       "      <td>NaN</td>\n",
       "      <td>NaN</td>\n",
       "      <td>NaN</td>\n",
       "      <td>NaN</td>\n",
       "      <td>NaN</td>\n",
       "    </tr>\n",
       "    <tr>\n",
       "      <th>2</th>\n",
       "      <td>11938715</td>\n",
       "      <td>2</td>\n",
       "      <td>10000003</td>\n",
       "      <td>2018-12-10</td>\n",
       "      <td>C44</td>\n",
       "      <td>C442</td>\n",
       "      <td>C44</td>\n",
       "      <td>C442</td>\n",
       "      <td>C442</td>\n",
       "      <td>C44</td>\n",
       "      <td>...</td>\n",
       "      <td>3</td>\n",
       "      <td>2018-12-10</td>\n",
       "      <td>NaN</td>\n",
       "      <td>NaN</td>\n",
       "      <td>0.0</td>\n",
       "      <td>NaN</td>\n",
       "      <td>NaN</td>\n",
       "      <td>NaN</td>\n",
       "      <td>NaN</td>\n",
       "      <td>NaN</td>\n",
       "    </tr>\n",
       "    <tr>\n",
       "      <th>3</th>\n",
       "      <td>11869010</td>\n",
       "      <td>1</td>\n",
       "      <td>10000004</td>\n",
       "      <td>2018-04-05</td>\n",
       "      <td>C44</td>\n",
       "      <td>C449</td>\n",
       "      <td>C44</td>\n",
       "      <td>C449</td>\n",
       "      <td>C449</td>\n",
       "      <td>C44</td>\n",
       "      <td>...</td>\n",
       "      <td>4</td>\n",
       "      <td>NaN</td>\n",
       "      <td>C</td>\n",
       "      <td>0.0</td>\n",
       "      <td>1.0</td>\n",
       "      <td>06</td>\n",
       "      <td>NaN</td>\n",
       "      <td>NaN</td>\n",
       "      <td>NaN</td>\n",
       "      <td>NaN</td>\n",
       "    </tr>\n",
       "    <tr>\n",
       "      <th>4</th>\n",
       "      <td>11037077</td>\n",
       "      <td>1</td>\n",
       "      <td>10000005</td>\n",
       "      <td>2018-04-23</td>\n",
       "      <td>C44</td>\n",
       "      <td>C446</td>\n",
       "      <td>C44</td>\n",
       "      <td>C446</td>\n",
       "      <td>C446</td>\n",
       "      <td>C44</td>\n",
       "      <td>...</td>\n",
       "      <td>3</td>\n",
       "      <td>2018-04-23</td>\n",
       "      <td>NaN</td>\n",
       "      <td>0.0</td>\n",
       "      <td>0.0</td>\n",
       "      <td>NaN</td>\n",
       "      <td>NaN</td>\n",
       "      <td>NaN</td>\n",
       "      <td>NaN</td>\n",
       "      <td>NaN</td>\n",
       "    </tr>\n",
       "  </tbody>\n",
       "</table>\n",
       "<p>5 rows × 37 columns</p>\n",
       "</div>"
      ],
      "text/plain": [
       "   TUMOURID  GENDER  PATIENTID DIAGNOSISDATEBEST SITE_ICD10_O2_3CHAR  \\\n",
       "0  10399610       1   10000001        2017-03-31                 C44   \n",
       "1  10694862       1   10000002        2016-01-14                 C44   \n",
       "2  11938715       2   10000003        2018-12-10                 C44   \n",
       "3  11869010       1   10000004        2018-04-05                 C44   \n",
       "4  11037077       1   10000005        2018-04-23                 C44   \n",
       "\n",
       "  SITE_ICD10_O2 SITE_ICD10R4_O2_3CHAR_FROM2013 SITE_ICD10R4_O2_FROM2013  \\\n",
       "0          C444                            C44                     C444   \n",
       "1          C449                            C44                     C449   \n",
       "2          C442                            C44                     C442   \n",
       "3          C449                            C44                     C449   \n",
       "4          C446                            C44                     C446   \n",
       "\n",
       "  SITE_ICDO3REV2011 SITE_ICDO3REV2011_3CHAR  ...       QUINTILE_2019  \\\n",
       "0              C444                     C44  ...                   4   \n",
       "1              C449                     C44  ...  5 - least deprived   \n",
       "2              C442                     C44  ...                   3   \n",
       "3              C449                     C44  ...                   4   \n",
       "4              C446                     C44  ...                   3   \n",
       "\n",
       "   DATE_FIRST_SURGERY  CANCERCAREPLANINTENT  PERFORMANCESTATUS CHRL_TOT_27_03  \\\n",
       "0                 NaN                   NaN                3.0            0.0   \n",
       "1          2016-01-14                   NaN                NaN            0.0   \n",
       "2          2018-12-10                   NaN                NaN            0.0   \n",
       "3                 NaN                     C                0.0            1.0   \n",
       "4          2018-04-23                   NaN                0.0            0.0   \n",
       "\n",
       "  COMORBIDITIES_27_03 GLEASON_PRIMARY GLEASON_SECONDARY GLEASON_TERTIARY  \\\n",
       "0                 NaN             NaN               NaN              NaN   \n",
       "1                 NaN             NaN               NaN              NaN   \n",
       "2                 NaN             NaN               NaN              NaN   \n",
       "3                  06             NaN               NaN              NaN   \n",
       "4                 NaN             NaN               NaN              NaN   \n",
       "\n",
       "   GLEASON_COMBINED  \n",
       "0               NaN  \n",
       "1               NaN  \n",
       "2               NaN  \n",
       "3               NaN  \n",
       "4               NaN  \n",
       "\n",
       "[5 rows x 37 columns]"
      ]
     },
     "execution_count": 84,
     "metadata": {},
     "output_type": "execute_result"
    }
   ],
   "source": [
    "tumours = pd.read_csv(\"sim_av_tumour.csv\", low_memory=False)\n",
    "\n",
    "# Quick look at the imported CSVs.\n",
    "tumours.head(5)"
   ]
  },
  {
   "cell_type": "code",
   "execution_count": 85,
   "id": "34622a94-294b-447e-bb00-43d71c8a714c",
   "metadata": {},
   "outputs": [
    {
     "data": {
      "text/html": [
       "<div>\n",
       "<style scoped>\n",
       "    .dataframe tbody tr th:only-of-type {\n",
       "        vertical-align: middle;\n",
       "    }\n",
       "\n",
       "    .dataframe tbody tr th {\n",
       "        vertical-align: top;\n",
       "    }\n",
       "\n",
       "    .dataframe thead th {\n",
       "        text-align: right;\n",
       "    }\n",
       "</style>\n",
       "<table border=\"1\" class=\"dataframe\">\n",
       "  <thead>\n",
       "    <tr style=\"text-align: right;\">\n",
       "      <th></th>\n",
       "      <th>PATIENTID</th>\n",
       "      <th>GENDER</th>\n",
       "      <th>ETHNICITY</th>\n",
       "      <th>DEATHCAUSECODE_1A</th>\n",
       "      <th>DEATHCAUSECODE_1B</th>\n",
       "      <th>DEATHCAUSECODE_1C</th>\n",
       "      <th>DEATHCAUSECODE_2</th>\n",
       "      <th>DEATHCAUSECODE_UNDERLYING</th>\n",
       "      <th>DEATHLOCATIONCODE</th>\n",
       "      <th>VITALSTATUS</th>\n",
       "      <th>VITALSTATUSDATE</th>\n",
       "      <th>LINKNUMBER</th>\n",
       "    </tr>\n",
       "  </thead>\n",
       "  <tbody>\n",
       "    <tr>\n",
       "      <th>0</th>\n",
       "      <td>10000001</td>\n",
       "      <td>1</td>\n",
       "      <td>A</td>\n",
       "      <td>NaN</td>\n",
       "      <td>NaN</td>\n",
       "      <td>NaN</td>\n",
       "      <td>NaN</td>\n",
       "      <td>NaN</td>\n",
       "      <td>NaN</td>\n",
       "      <td>A</td>\n",
       "      <td>2022-07-05</td>\n",
       "      <td>101610884</td>\n",
       "    </tr>\n",
       "    <tr>\n",
       "      <th>1</th>\n",
       "      <td>10000002</td>\n",
       "      <td>1</td>\n",
       "      <td>NaN</td>\n",
       "      <td>NaN</td>\n",
       "      <td>NaN</td>\n",
       "      <td>NaN</td>\n",
       "      <td>NaN</td>\n",
       "      <td>NaN</td>\n",
       "      <td>NaN</td>\n",
       "      <td>A</td>\n",
       "      <td>2022-07-05</td>\n",
       "      <td>101343783</td>\n",
       "    </tr>\n",
       "    <tr>\n",
       "      <th>2</th>\n",
       "      <td>10000003</td>\n",
       "      <td>2</td>\n",
       "      <td>A</td>\n",
       "      <td>NaN</td>\n",
       "      <td>NaN</td>\n",
       "      <td>NaN</td>\n",
       "      <td>NaN</td>\n",
       "      <td>NaN</td>\n",
       "      <td>NaN</td>\n",
       "      <td>A</td>\n",
       "      <td>2022-07-05</td>\n",
       "      <td>101560124</td>\n",
       "    </tr>\n",
       "    <tr>\n",
       "      <th>3</th>\n",
       "      <td>10000004</td>\n",
       "      <td>1</td>\n",
       "      <td>A</td>\n",
       "      <td>NaN</td>\n",
       "      <td>NaN</td>\n",
       "      <td>NaN</td>\n",
       "      <td>NaN</td>\n",
       "      <td>NaN</td>\n",
       "      <td>NaN</td>\n",
       "      <td>A</td>\n",
       "      <td>2022-07-05</td>\n",
       "      <td>101833580</td>\n",
       "    </tr>\n",
       "    <tr>\n",
       "      <th>4</th>\n",
       "      <td>10000005</td>\n",
       "      <td>1</td>\n",
       "      <td>A</td>\n",
       "      <td>NaN</td>\n",
       "      <td>NaN</td>\n",
       "      <td>NaN</td>\n",
       "      <td>NaN</td>\n",
       "      <td>NaN</td>\n",
       "      <td>NaN</td>\n",
       "      <td>A</td>\n",
       "      <td>2022-07-05</td>\n",
       "      <td>100957799</td>\n",
       "    </tr>\n",
       "  </tbody>\n",
       "</table>\n",
       "</div>"
      ],
      "text/plain": [
       "   PATIENTID  GENDER ETHNICITY DEATHCAUSECODE_1A DEATHCAUSECODE_1B  \\\n",
       "0   10000001       1         A               NaN               NaN   \n",
       "1   10000002       1       NaN               NaN               NaN   \n",
       "2   10000003       2         A               NaN               NaN   \n",
       "3   10000004       1         A               NaN               NaN   \n",
       "4   10000005       1         A               NaN               NaN   \n",
       "\n",
       "  DEATHCAUSECODE_1C DEATHCAUSECODE_2 DEATHCAUSECODE_UNDERLYING  \\\n",
       "0               NaN              NaN                       NaN   \n",
       "1               NaN              NaN                       NaN   \n",
       "2               NaN              NaN                       NaN   \n",
       "3               NaN              NaN                       NaN   \n",
       "4               NaN              NaN                       NaN   \n",
       "\n",
       "  DEATHLOCATIONCODE VITALSTATUS VITALSTATUSDATE  LINKNUMBER  \n",
       "0               NaN           A      2022-07-05   101610884  \n",
       "1               NaN           A      2022-07-05   101343783  \n",
       "2               NaN           A      2022-07-05   101560124  \n",
       "3               NaN           A      2022-07-05   101833580  \n",
       "4               NaN           A      2022-07-05   100957799  "
      ]
     },
     "execution_count": 85,
     "metadata": {},
     "output_type": "execute_result"
    }
   ],
   "source": [
    "patients = pd.read_csv(\"sim_av_patient.csv\")\n",
    "patients.head(5)"
   ]
  },
  {
   "cell_type": "markdown",
   "id": "b99bf584-110e-49cc-9089-ff1f7e89dc63",
   "metadata": {},
   "source": [
    "### Step 2: Summarise missing values"
   ]
  },
  {
   "cell_type": "code",
   "execution_count": 86,
   "id": "a60312ef-9f9f-4443-8b17-693532b40685",
   "metadata": {},
   "outputs": [
    {
     "data": {
      "text/plain": [
       "PATIENTID                          0\n",
       "GENDER                             0\n",
       "ETHNICITY                      90494\n",
       "DEATHCAUSECODE_1A            1248518\n",
       "DEATHCAUSECODE_1B            1700480\n",
       "DEATHCAUSECODE_1C            1860963\n",
       "DEATHCAUSECODE_2             1588067\n",
       "DEATHCAUSECODE_UNDERLYING    1248518\n",
       "DEATHLOCATIONCODE            1246675\n",
       "VITALSTATUS                        0\n",
       "VITALSTATUSDATE                 1843\n",
       "LINKNUMBER                         0\n",
       "dtype: int64"
      ]
     },
     "execution_count": 86,
     "metadata": {},
     "output_type": "execute_result"
    }
   ],
   "source": [
    "# Missing values in patients dataset.\n",
    "patients.isnull().sum()"
   ]
  },
  {
   "cell_type": "code",
   "execution_count": 87,
   "id": "40730e6c-8c34-4b2c-a0d0-2aa2bca84fc4",
   "metadata": {},
   "outputs": [
    {
     "data": {
      "text/plain": [
       "np.int64(90494)"
      ]
     },
     "execution_count": 87,
     "metadata": {},
     "output_type": "execute_result"
    }
   ],
   "source": [
    "# Verify above code worked by focusing on Ethnicity column:\n",
    "test = patients[\"ETHNICITY\"].isnull()\n",
    "test[test == True].count()"
   ]
  },
  {
   "cell_type": "code",
   "execution_count": 88,
   "id": "9c887ccf-fa08-466e-aa0e-2cdd03ce1dd8",
   "metadata": {},
   "outputs": [
    {
     "data": {
      "text/plain": [
       "TUMOURID                                0\n",
       "GENDER                                  0\n",
       "PATIENTID                               0\n",
       "DIAGNOSISDATEBEST                       0\n",
       "SITE_ICD10_O2_3CHAR                     0\n",
       "SITE_ICD10_O2                           0\n",
       "SITE_ICD10R4_O2_3CHAR_FROM2013          0\n",
       "SITE_ICD10R4_O2_FROM2013                0\n",
       "SITE_ICDO3REV2011                       4\n",
       "SITE_ICDO3REV2011_3CHAR                 4\n",
       "MORPH_ICD10_O2                          0\n",
       "MORPH_ICDO3REV2011                     32\n",
       "BEHAVIOUR_ICD10_O2                      0\n",
       "BEHAVIOUR_ICDO3REV2011                  0\n",
       "T_BEST                            1035148\n",
       "N_BEST                            1135720\n",
       "M_BEST                            1135603\n",
       "STAGE_BEST                           1900\n",
       "GRADE                                   0\n",
       "AGE                                     0\n",
       "CREG_CODE                               0\n",
       "STAGE_BEST_SYSTEM                  770751\n",
       "LATERALITY                              0\n",
       "SCREENINGSTATUSFULL_CODE          1817326\n",
       "ER_STATUS                         1819257\n",
       "PR_STATUS                         1875024\n",
       "HER2_STATUS                       1838397\n",
       "QUINTILE_2019                           0\n",
       "DATE_FIRST_SURGERY                 725085\n",
       "CANCERCAREPLANINTENT              1223497\n",
       "PERFORMANCESTATUS                 1203232\n",
       "CHRL_TOT_27_03                       4331\n",
       "COMORBIDITIES_27_03               1567658\n",
       "GLEASON_PRIMARY                   1848168\n",
       "GLEASON_SECONDARY                 1848163\n",
       "GLEASON_TERTIARY                  1989615\n",
       "GLEASON_COMBINED                  1848176\n",
       "dtype: int64"
      ]
     },
     "execution_count": 88,
     "metadata": {},
     "output_type": "execute_result"
    }
   ],
   "source": [
    "# Missing values in tumours dataset.\n",
    "tumours.isnull().sum()"
   ]
  },
  {
   "cell_type": "markdown",
   "id": "fb947fa1-ca16-4bb3-b704-2a38ce8822a5",
   "metadata": {},
   "source": [
    "### Step 3: New VitalStatusDate year column."
   ]
  },
  {
   "cell_type": "code",
   "execution_count": 89,
   "id": "9f3dbe9a-3177-4550-acd3-c10b0c633fc1",
   "metadata": {},
   "outputs": [
    {
     "data": {
      "text/html": [
       "<div>\n",
       "<style scoped>\n",
       "    .dataframe tbody tr th:only-of-type {\n",
       "        vertical-align: middle;\n",
       "    }\n",
       "\n",
       "    .dataframe tbody tr th {\n",
       "        vertical-align: top;\n",
       "    }\n",
       "\n",
       "    .dataframe thead th {\n",
       "        text-align: right;\n",
       "    }\n",
       "</style>\n",
       "<table border=\"1\" class=\"dataframe\">\n",
       "  <thead>\n",
       "    <tr style=\"text-align: right;\">\n",
       "      <th></th>\n",
       "      <th>VITALSTATUSDATE</th>\n",
       "      <th>VitalStatusDate_Year</th>\n",
       "    </tr>\n",
       "  </thead>\n",
       "  <tbody>\n",
       "    <tr>\n",
       "      <th>0</th>\n",
       "      <td>2022-07-05</td>\n",
       "      <td>2022.0</td>\n",
       "    </tr>\n",
       "    <tr>\n",
       "      <th>1</th>\n",
       "      <td>2022-07-05</td>\n",
       "      <td>2022.0</td>\n",
       "    </tr>\n",
       "    <tr>\n",
       "      <th>2</th>\n",
       "      <td>2022-07-05</td>\n",
       "      <td>2022.0</td>\n",
       "    </tr>\n",
       "    <tr>\n",
       "      <th>3</th>\n",
       "      <td>2022-07-05</td>\n",
       "      <td>2022.0</td>\n",
       "    </tr>\n",
       "    <tr>\n",
       "      <th>4</th>\n",
       "      <td>2022-07-05</td>\n",
       "      <td>2022.0</td>\n",
       "    </tr>\n",
       "    <tr>\n",
       "      <th>...</th>\n",
       "      <td>...</td>\n",
       "      <td>...</td>\n",
       "    </tr>\n",
       "    <tr>\n",
       "      <th>1871600</th>\n",
       "      <td>2022-07-05</td>\n",
       "      <td>2022.0</td>\n",
       "    </tr>\n",
       "    <tr>\n",
       "      <th>1871601</th>\n",
       "      <td>2021-06-10</td>\n",
       "      <td>2021.0</td>\n",
       "    </tr>\n",
       "    <tr>\n",
       "      <th>1871602</th>\n",
       "      <td>2022-06-10</td>\n",
       "      <td>2022.0</td>\n",
       "    </tr>\n",
       "    <tr>\n",
       "      <th>1871603</th>\n",
       "      <td>2019-09-25</td>\n",
       "      <td>2019.0</td>\n",
       "    </tr>\n",
       "    <tr>\n",
       "      <th>1871604</th>\n",
       "      <td>2020-05-24</td>\n",
       "      <td>2020.0</td>\n",
       "    </tr>\n",
       "  </tbody>\n",
       "</table>\n",
       "<p>1871605 rows × 2 columns</p>\n",
       "</div>"
      ],
      "text/plain": [
       "        VITALSTATUSDATE  VitalStatusDate_Year\n",
       "0            2022-07-05                2022.0\n",
       "1            2022-07-05                2022.0\n",
       "2            2022-07-05                2022.0\n",
       "3            2022-07-05                2022.0\n",
       "4            2022-07-05                2022.0\n",
       "...                 ...                   ...\n",
       "1871600      2022-07-05                2022.0\n",
       "1871601      2021-06-10                2021.0\n",
       "1871602      2022-06-10                2022.0\n",
       "1871603      2019-09-25                2019.0\n",
       "1871604      2020-05-24                2020.0\n",
       "\n",
       "[1871605 rows x 2 columns]"
      ]
     },
     "execution_count": 89,
     "metadata": {},
     "output_type": "execute_result"
    }
   ],
   "source": [
    "def extract_year(vital_dt_string: str) -> datetime | None:\n",
    "    \"\"\"\n",
    "    Extract year from the VITALSTATUSDATE string.\n",
    "    \"\"\"\n",
    "    try:\n",
    "        return datetime.strptime(vital_dt_string, \"%Y-%m-%d\").year\n",
    "    except TypeError:\n",
    "        pass\n",
    "\n",
    "# Two options:\n",
    "\n",
    "# Option 1 - returns a string/object:\n",
    "patients[\"VitalStatusDate_Year\"] = patients[\"VITALSTATUSDATE\"].str.extract(\"^([0-9]{4})\")\n",
    "\n",
    "# Option 2 - returns a float:\n",
    "patients[\"VitalStatusDate_Year\"] = patients[\"VITALSTATUSDATE\"].apply(extract_year)\n",
    "\n",
    "# Double check it worked:\n",
    "patients[[\"VITALSTATUSDATE\", \"VitalStatusDate_Year\"]]"
   ]
  },
  {
   "cell_type": "markdown",
   "id": "626cce63-4a52-45cc-801e-7452435273f8",
   "metadata": {},
   "source": [
    "## Step 4: Summarise the data by age and sex distribution of patients"
   ]
  },
  {
   "cell_type": "code",
   "execution_count": 92,
   "id": "3dcb492f-3913-4f4f-93c6-d20205a3ea7a",
   "metadata": {},
   "outputs": [
    {
     "data": {
      "text/html": [
       "<div>\n",
       "<style scoped>\n",
       "    .dataframe tbody tr th:only-of-type {\n",
       "        vertical-align: middle;\n",
       "    }\n",
       "\n",
       "    .dataframe tbody tr th {\n",
       "        vertical-align: top;\n",
       "    }\n",
       "\n",
       "    .dataframe thead th {\n",
       "        text-align: right;\n",
       "    }\n",
       "</style>\n",
       "<table border=\"1\" class=\"dataframe\">\n",
       "  <thead>\n",
       "    <tr style=\"text-align: right;\">\n",
       "      <th></th>\n",
       "      <th>PATIENTID</th>\n",
       "      <th>GENDER_x</th>\n",
       "      <th>ETHNICITY</th>\n",
       "      <th>DEATHCAUSECODE_1A</th>\n",
       "      <th>DEATHCAUSECODE_1B</th>\n",
       "      <th>DEATHCAUSECODE_1C</th>\n",
       "      <th>DEATHCAUSECODE_2</th>\n",
       "      <th>DEATHCAUSECODE_UNDERLYING</th>\n",
       "      <th>DEATHLOCATIONCODE</th>\n",
       "      <th>VITALSTATUS</th>\n",
       "      <th>...</th>\n",
       "      <th>QUINTILE_2019</th>\n",
       "      <th>DATE_FIRST_SURGERY</th>\n",
       "      <th>CANCERCAREPLANINTENT</th>\n",
       "      <th>PERFORMANCESTATUS</th>\n",
       "      <th>CHRL_TOT_27_03</th>\n",
       "      <th>COMORBIDITIES_27_03</th>\n",
       "      <th>GLEASON_PRIMARY</th>\n",
       "      <th>GLEASON_SECONDARY</th>\n",
       "      <th>GLEASON_TERTIARY</th>\n",
       "      <th>GLEASON_COMBINED</th>\n",
       "    </tr>\n",
       "  </thead>\n",
       "  <tbody>\n",
       "    <tr>\n",
       "      <th>0</th>\n",
       "      <td>10000001</td>\n",
       "      <td>1</td>\n",
       "      <td>A</td>\n",
       "      <td>NaN</td>\n",
       "      <td>NaN</td>\n",
       "      <td>NaN</td>\n",
       "      <td>NaN</td>\n",
       "      <td>NaN</td>\n",
       "      <td>NaN</td>\n",
       "      <td>A</td>\n",
       "      <td>...</td>\n",
       "      <td>4</td>\n",
       "      <td>NaN</td>\n",
       "      <td>NaN</td>\n",
       "      <td>3.0</td>\n",
       "      <td>0.0</td>\n",
       "      <td>NaN</td>\n",
       "      <td>NaN</td>\n",
       "      <td>NaN</td>\n",
       "      <td>NaN</td>\n",
       "      <td>NaN</td>\n",
       "    </tr>\n",
       "    <tr>\n",
       "      <th>1</th>\n",
       "      <td>10000002</td>\n",
       "      <td>1</td>\n",
       "      <td>NaN</td>\n",
       "      <td>NaN</td>\n",
       "      <td>NaN</td>\n",
       "      <td>NaN</td>\n",
       "      <td>NaN</td>\n",
       "      <td>NaN</td>\n",
       "      <td>NaN</td>\n",
       "      <td>A</td>\n",
       "      <td>...</td>\n",
       "      <td>5 - least deprived</td>\n",
       "      <td>2016-01-14</td>\n",
       "      <td>NaN</td>\n",
       "      <td>NaN</td>\n",
       "      <td>0.0</td>\n",
       "      <td>NaN</td>\n",
       "      <td>NaN</td>\n",
       "      <td>NaN</td>\n",
       "      <td>NaN</td>\n",
       "      <td>NaN</td>\n",
       "    </tr>\n",
       "  </tbody>\n",
       "</table>\n",
       "<p>2 rows × 49 columns</p>\n",
       "</div>"
      ],
      "text/plain": [
       "   PATIENTID  GENDER_x ETHNICITY DEATHCAUSECODE_1A DEATHCAUSECODE_1B  \\\n",
       "0   10000001         1         A               NaN               NaN   \n",
       "1   10000002         1       NaN               NaN               NaN   \n",
       "\n",
       "  DEATHCAUSECODE_1C DEATHCAUSECODE_2 DEATHCAUSECODE_UNDERLYING  \\\n",
       "0               NaN              NaN                       NaN   \n",
       "1               NaN              NaN                       NaN   \n",
       "\n",
       "  DEATHLOCATIONCODE VITALSTATUS  ...       QUINTILE_2019  DATE_FIRST_SURGERY  \\\n",
       "0               NaN           A  ...                   4                 NaN   \n",
       "1               NaN           A  ...  5 - least deprived          2016-01-14   \n",
       "\n",
       "   CANCERCAREPLANINTENT  PERFORMANCESTATUS  CHRL_TOT_27_03  \\\n",
       "0                   NaN                3.0             0.0   \n",
       "1                   NaN                NaN             0.0   \n",
       "\n",
       "  COMORBIDITIES_27_03 GLEASON_PRIMARY GLEASON_SECONDARY GLEASON_TERTIARY  \\\n",
       "0                 NaN             NaN               NaN              NaN   \n",
       "1                 NaN             NaN               NaN              NaN   \n",
       "\n",
       "  GLEASON_COMBINED  \n",
       "0              NaN  \n",
       "1              NaN  \n",
       "\n",
       "[2 rows x 49 columns]"
      ]
     },
     "execution_count": 92,
     "metadata": {},
     "output_type": "execute_result"
    }
   ],
   "source": [
    "combined_df = pd.merge(patients, tumours, on=\"PATIENTID\")\n",
    "# Taking a look at the merged datasets:\n",
    "combined_df.head(2)"
   ]
  },
  {
   "cell_type": "code",
   "execution_count": 93,
   "id": "6b91137e-7ed5-4716-bdcc-415407cdd931",
   "metadata": {},
   "outputs": [
    {
     "data": {
      "text/plain": [
       "GENDER_x  AGE\n",
       "1         0      409\n",
       "          1      335\n",
       "          2      372\n",
       "          3      338\n",
       "          4      350\n",
       "                ... \n",
       "2         105     14\n",
       "          106      4\n",
       "          107      1\n",
       "9         81       1\n",
       "          90       1\n",
       "Name: PATIENTID, Length: 217, dtype: int64"
      ]
     },
     "execution_count": 93,
     "metadata": {},
     "output_type": "execute_result"
    }
   ],
   "source": [
    "combined_df.groupby([\"GENDER_x\", \"AGE\"]).PATIENTID.nunique()"
   ]
  },
  {
   "cell_type": "markdown",
   "id": "0967c8a5-4896-4d9f-8b59-508308ece75d",
   "metadata": {},
   "source": [
    "## Step 5. Summarise the comorbidities of the patients in the dataset\n",
    "\n",
    "I'm going to treat multiple tumours as the definition of comorbidities in this context."
   ]
  },
  {
   "cell_type": "code",
   "execution_count": 94,
   "id": "51227996-ddf8-4a5d-aa6b-90c4912aead8",
   "metadata": {},
   "outputs": [
    {
     "data": {
      "text/plain": [
       "PATIENTID\n",
       "10279408     6\n",
       "80068121     6\n",
       "200001809    5\n",
       "200004371    5\n",
       "140001359    5\n",
       "            ..\n",
       "20164233     1\n",
       "20164232     1\n",
       "20164231     1\n",
       "20164230     1\n",
       "40045262     1\n",
       "Name: TUMOURID, Length: 1871605, dtype: int64"
      ]
     },
     "execution_count": 94,
     "metadata": {},
     "output_type": "execute_result"
    }
   ],
   "source": [
    "comorbidities = combined_df.groupby(\"PATIENTID\").TUMOURID.nunique().sort_values(ascending=False)\n",
    "comorbidities"
   ]
  },
  {
   "cell_type": "code",
   "execution_count": 95,
   "id": "9d1b2f05-55bf-4ebf-80cb-394c2f743366",
   "metadata": {},
   "outputs": [
    {
     "data": {
      "text/plain": [
       "TUMOURID\n",
       "1    1755702\n",
       "2     108402\n",
       "3       6980\n",
       "4        483\n",
       "5         36\n",
       "6          2\n",
       "Name: TUMOURID, dtype: int64"
      ]
     },
     "execution_count": 95,
     "metadata": {},
     "output_type": "execute_result"
    }
   ],
   "source": [
    "# I haven't filtered out patients with just one tumour as I thought it would be interesting to see the comparison.\n",
    "comorbidities.groupby(comorbidities).count()"
   ]
  },
  {
   "cell_type": "code",
   "execution_count": 97,
   "id": "0cf352a5-f3ad-4304-a601-be30d0ebfc98",
   "metadata": {},
   "outputs": [
    {
     "data": {
      "text/plain": [
       "TUMOURID\n",
       "1    87.979976\n",
       "2     5.432132\n",
       "3     0.349775\n",
       "4     0.024204\n",
       "5     0.001804\n",
       "6     0.000100\n",
       "Name: TUMOURID, dtype: float64"
      ]
     },
     "execution_count": 97,
     "metadata": {},
     "output_type": "execute_result"
    }
   ],
   "source": [
    "# Percentage of total breakdown.\n",
    "comorbidities.groupby(comorbidities).count() / comorbidities.sum() * 100"
   ]
  },
  {
   "cell_type": "markdown",
   "id": "69fc8740-2ee8-4f0c-9167-a337f9673444",
   "metadata": {},
   "source": [
    "## Step 6\n",
    "\n",
    "### a) Summarise the percentage of each ethnic group for the most deprived income-level group. "
   ]
  },
  {
   "cell_type": "code",
   "execution_count": 98,
   "id": "7789d927-a94f-440a-b326-8aeae77faa53",
   "metadata": {},
   "outputs": [
    {
     "data": {
      "text/plain": [
       "0                      4\n",
       "1     5 - least deprived\n",
       "2                      3\n",
       "14                     2\n",
       "17     1 - most deprived\n",
       "Name: QUINTILE_2019, dtype: object"
      ]
     },
     "execution_count": 98,
     "metadata": {},
     "output_type": "execute_result"
    }
   ],
   "source": [
    "# Check to see what value is being used for the most deprived income-level.\n",
    "unique_income_level = combined_df[\"QUINTILE_2019\"].drop_duplicates()\n",
    "unique_income_level"
   ]
  },
  {
   "cell_type": "code",
   "execution_count": 99,
   "id": "54d21b4f-8c05-4583-b487-679878a7cb20",
   "metadata": {},
   "outputs": [
    {
     "data": {
      "text/plain": [
       "ETHNICITY\n",
       "A    257343\n",
       "C     11651\n",
       "Z     10870\n",
       "S      4107\n",
       "B      3056\n",
       "H      2756\n",
       "M      2509\n",
       "X      2252\n",
       "J      2102\n",
       "N      2047\n",
       "L      1904\n",
       "P      1050\n",
       "R       767\n",
       "G       656\n",
       "K       634\n",
       "D       372\n",
       "F       276\n",
       "E       208\n",
       "0        29\n",
       "Name: PATIENTID, dtype: int64"
      ]
     },
     "execution_count": 99,
     "metadata": {},
     "output_type": "execute_result"
    }
   ],
   "source": [
    "most_deprived_ethnic_group = combined_df[combined_df[\"QUINTILE_2019\"]==\"1 - most deprived\"].groupby(\"ETHNICITY\").PATIENTID.nunique()\n",
    "most_deprived_ethnic_group.sort_values(ascending=False)"
   ]
  },
  {
   "cell_type": "code",
   "execution_count": 101,
   "id": "cbdf3e22-d9d1-44e9-8084-5958187856dd",
   "metadata": {},
   "outputs": [
    {
     "data": {
      "text/plain": [
       "ETHNICITY\n",
       "A    84.488606\n",
       "C     3.825155\n",
       "Z     3.568743\n",
       "S     1.348374\n",
       "B     1.003319\n",
       "H     0.904826\n",
       "M     0.823733\n",
       "X     0.739357\n",
       "J     0.690110\n",
       "N     0.672053\n",
       "L     0.625105\n",
       "P     0.344727\n",
       "R     0.251815\n",
       "G     0.215372\n",
       "K     0.208149\n",
       "D     0.122132\n",
       "F     0.090614\n",
       "E     0.068289\n",
       "0     0.009521\n",
       "Name: PATIENTID, dtype: float64"
      ]
     },
     "execution_count": 101,
     "metadata": {},
     "output_type": "execute_result"
    }
   ],
   "source": [
    "((most_deprived_ethnic_group / most_deprived_ethnic_group.sum()) * 100).sort_values(ascending=False)"
   ]
  },
  {
   "cell_type": "markdown",
   "id": "58ec6e7b-906b-499a-848c-2b282dfe0f46",
   "metadata": {},
   "source": [
    "### b) Which ethnic groups have a higher proportion of lower income earners within it?"
   ]
  },
  {
   "cell_type": "code",
   "execution_count": 102,
   "id": "5b2d2f90-b9ba-4e8e-942c-8eada51b363c",
   "metadata": {},
   "outputs": [
    {
     "data": {
      "text/plain": [
       "ETHNICITY\n",
       "A    257343\n",
       "C     11651\n",
       "Z     10870\n",
       "S      4107\n",
       "B      3056\n",
       "H      2756\n",
       "M      2509\n",
       "X      2252\n",
       "J      2102\n",
       "N      2047\n",
       "L      1904\n",
       "P      1050\n",
       "R       767\n",
       "G       656\n",
       "K       634\n",
       "D       372\n",
       "F       276\n",
       "E       208\n",
       "0        29\n",
       "Name: PATIENTID, dtype: int64"
      ]
     },
     "execution_count": 102,
     "metadata": {},
     "output_type": "execute_result"
    }
   ],
   "source": [
    "ethnic_lowest_income = combined_df[combined_df[\"QUINTILE_2019\"]==\"1 - most deprived\"].groupby(\"ETHNICITY\").PATIENTID.nunique().sort_values(ascending=False)\n",
    "ethnic_lowest_income"
   ]
  },
  {
   "cell_type": "code",
   "execution_count": 103,
   "id": "bfaa5d76-bfbc-4872-b001-678e9a29d226",
   "metadata": {},
   "outputs": [
    {
     "data": {
      "text/plain": [
       "ETHNICITY\n",
       "A     1525829\n",
       "Z       67078\n",
       "C       61672\n",
       "S       20734\n",
       "B       16038\n",
       "H       15225\n",
       "X       14812\n",
       "M       12075\n",
       "N        9680\n",
       "J        9357\n",
       "L        8989\n",
       "P        5199\n",
       "R        3787\n",
       "G        3338\n",
       "K        2849\n",
       "D        1907\n",
       "F        1410\n",
       "E         953\n",
       "0         172\n",
       "8           3\n",
       "CA          2\n",
       "CP          1\n",
       "CH          1\n",
       "Name: PATIENTID, dtype: int64"
      ]
     },
     "execution_count": 103,
     "metadata": {},
     "output_type": "execute_result"
    }
   ],
   "source": [
    "ethnic_total_users = combined_df.groupby(\"ETHNICITY\").PATIENTID.nunique()\n",
    "ethnic_total_users.sort_values(ascending=False)"
   ]
  },
  {
   "cell_type": "code",
   "execution_count": 104,
   "id": "f0e631c8-8b4e-46c0-8bef-39740e44a0a4",
   "metadata": {},
   "outputs": [
    {
     "data": {
      "text/plain": [
       "ETHNICITY\n",
       "J     0.224645\n",
       "K     0.222534\n",
       "E     0.218258\n",
       "L     0.211814\n",
       "N     0.211467\n",
       "M     0.207785\n",
       "R     0.202535\n",
       "P     0.201962\n",
       "S     0.198080\n",
       "G     0.196525\n",
       "F     0.195745\n",
       "D     0.195071\n",
       "B     0.190547\n",
       "C     0.188919\n",
       "H     0.181018\n",
       "A     0.168658\n",
       "0     0.168605\n",
       "Z     0.162050\n",
       "X     0.152039\n",
       "8          NaN\n",
       "CA         NaN\n",
       "CH         NaN\n",
       "CP         NaN\n",
       "Name: PATIENTID, dtype: float64"
      ]
     },
     "execution_count": 104,
     "metadata": {},
     "output_type": "execute_result"
    }
   ],
   "source": [
    "ethnic_groups_high_proportion_of_low_income = (ethnic_lowest_income / ethnic_total_users).sort_values(ascending=False)\n",
    "ethnic_groups_high_proportion_of_low_income"
   ]
  },
  {
   "cell_type": "code",
   "execution_count": 105,
   "id": "120eb0e0-6bb2-4788-8c6b-455da3fddc56",
   "metadata": {},
   "outputs": [
    {
     "data": {
      "text/plain": [
       "ETHNICITY\n",
       "J    0.224645\n",
       "K    0.222534\n",
       "E    0.218258\n",
       "L    0.211814\n",
       "N    0.211467\n",
       "Name: PATIENTID, dtype: float64"
      ]
     },
     "execution_count": 105,
     "metadata": {},
     "output_type": "execute_result"
    }
   ],
   "source": [
    "# Top 5 ethnic groups with largest proportion of low-income earners\n",
    "ethnic_groups_high_proportion_of_low_income.head(5)"
   ]
  },
  {
   "cell_type": "code",
   "execution_count": null,
   "id": "5b6a81ae-7814-4dbe-8771-68038a087345",
   "metadata": {},
   "outputs": [],
   "source": []
  }
 ],
 "metadata": {
  "kernelspec": {
   "display_name": "Python 3 (ipykernel)",
   "language": "python",
   "name": "python3"
  },
  "language_info": {
   "codemirror_mode": {
    "name": "ipython",
    "version": 3
   },
   "file_extension": ".py",
   "mimetype": "text/x-python",
   "name": "python",
   "nbconvert_exporter": "python",
   "pygments_lexer": "ipython3",
   "version": "3.12.9"
  }
 },
 "nbformat": 4,
 "nbformat_minor": 5
}
